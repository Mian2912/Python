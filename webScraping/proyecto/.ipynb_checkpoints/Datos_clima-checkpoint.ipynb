{
 "cells": [
  {
   "cell_type": "code",
   "execution_count": 3,
   "id": "af79e08a",
   "metadata": {},
   "outputs": [],
   "source": [
    "import re # expresinones regulares\n",
    "import requests\n",
    "from bs4 import BeautifulSoup"
   ]
  },
  {
   "cell_type": "code",
   "execution_count": 5,
   "id": "3aac2abe",
   "metadata": {},
   "outputs": [],
   "source": [
    "contenido_html = requests.get(\"https://weather.com/es-CO/tiempo/horario/l/9ac15d92af342287ce0421d3daa71cc6e16f8f451fae2a04c524b944242a3933\").content\n",
    "soup = BeautifulSoup(contenido_html, \"lxml\")"
   ]
  },
  {
   "cell_type": "code",
   "execution_count": 6,
   "id": "4bc4fb4f",
   "metadata": {},
   "outputs": [
    {
     "name": "stdout",
     "output_type": "stream",
     "text": [
      "<span class=\"DetailsSummary--tempValue--1K4ka\" data-testid=\"TemperatureValue\">16°</span>\n"
     ]
    }
   ],
   "source": [
    "print(soup.find(\"span\", class_=\"DetailsSummary--tempValue--1K4ka\"))"
   ]
  },
  {
   "cell_type": "code",
   "execution_count": 11,
   "id": "f1368329",
   "metadata": {},
   "outputs": [],
   "source": [
    "#extrayendo los dias\n",
    "dias_diccionario ={}\n",
    "#currentDateId0 el numero despues del \"Id\" va cambiando\n",
    "for dia in soup.find_all(\"h3\", attrs={\"id\":re.compile(\"^currentDateId\")}):\n",
    "    key=dia.get(\"id\").split(\"currentDateId\")[1]\n",
    "    value = dia.text # obtener el solo texto del tag por ejemplo : jueves, 7 abril\n",
    "    #creamos el diccionario\n",
    "    dias_diccionario[key] = value"
   ]
  },
  {
   "cell_type": "code",
   "execution_count": 12,
   "id": "54ace3de",
   "metadata": {},
   "outputs": [
    {
     "data": {
      "text/plain": [
       "{'0': 'jueves, 7 de abril',\n",
       " '14': 'viernes, 8 de abril',\n",
       " '38': 'sábado, 9 de abril'}"
      ]
     },
     "execution_count": 12,
     "metadata": {},
     "output_type": "execute_result"
    }
   ],
   "source": [
    "dias_diccionario"
   ]
  },
  {
   "cell_type": "code",
   "execution_count": 27,
   "id": "17fc8831",
   "metadata": {},
   "outputs": [],
   "source": [
    "datos = {\n",
    "    \"dia\": [],\n",
    "    \"hora\" : [],\n",
    "    \"temperatura\": [],\n",
    "    \"nubosidad\" : [],\n",
    "    \"precipitacion\" : [],\n",
    "    \"viento\" : []\n",
    "}\n",
    "\n",
    "\n",
    "# las ventajas de usar un diccionario es para tener la informacion ordenada\n",
    "#y luego tranformarla en un data frame\n"
   ]
  },
  {
   "cell_type": "code",
   "execution_count": 30,
   "id": "2722cc4e",
   "metadata": {},
   "outputs": [],
   "source": [
    "# vamos a tomar los datos por la hora en el resumen(summary no existe una id)\n",
    "for datos_por_hora in soup.find_all(\"summary\", class_=\"Disclosure--Summary--UuybP DaypartDetails--Summary--3IBUr Disclosure--hideBorderOnSummaryOpen--ZdSDc\"):\n",
    "    key = datos_por_hora.get(\"aria-labelledby\").split()[0].split(\"currentDateId\")[1]\n",
    "    datos[\"dia\"].append(dias_diccionario[key])\n",
    "    datos[\"hora\"].append(datos_por_hora.find(\"h2\", attrs={\"data-testid\":\"daypartName\"}).text)\n",
    "    datos[\"temperatura\"].append(datos_por_hora.find(\"div\", attrs={\"data-testid\":\"detailsTemperature\"}).text)\n",
    "    datos[\"nubosidad\"].append(datos_por_hora.find(\"div\", attrs={\"data-testid\":\"wxIcon\"}).span.text)\n",
    "    datos[\"precipitacion\"].append(datos_por_hora.find(\"div\", attrs={\"data-testid\":\"Precip\"}).span.text)\n",
    "    datos[\"viento\"].append(datos_por_hora.find(\"div\", attrs={\"data-testid\":\"wind\"}).span.text)"
   ]
  },
  {
   "cell_type": "code",
   "execution_count": 31,
   "id": "1f4ce4c4",
   "metadata": {},
   "outputs": [
    {
     "data": {
      "text/html": [
       "<div>\n",
       "<style scoped>\n",
       "    .dataframe tbody tr th:only-of-type {\n",
       "        vertical-align: middle;\n",
       "    }\n",
       "\n",
       "    .dataframe tbody tr th {\n",
       "        vertical-align: top;\n",
       "    }\n",
       "\n",
       "    .dataframe thead th {\n",
       "        text-align: right;\n",
       "    }\n",
       "</style>\n",
       "<table border=\"1\" class=\"dataframe\">\n",
       "  <thead>\n",
       "    <tr style=\"text-align: right;\">\n",
       "      <th></th>\n",
       "      <th>dia</th>\n",
       "      <th>hora</th>\n",
       "      <th>temperatura</th>\n",
       "      <th>nubosidad</th>\n",
       "      <th>precipitacion</th>\n",
       "      <th>viento</th>\n",
       "    </tr>\n",
       "  </thead>\n",
       "  <tbody>\n",
       "    <tr>\n",
       "      <th>0</th>\n",
       "      <td>jueves, 7 de abril</td>\n",
       "      <td>10:00</td>\n",
       "      <td>16°</td>\n",
       "      <td>Parcialmente nublado</td>\n",
       "      <td>24%</td>\n",
       "      <td>E 4 km/h</td>\n",
       "    </tr>\n",
       "    <tr>\n",
       "      <th>1</th>\n",
       "      <td>jueves, 7 de abril</td>\n",
       "      <td>11:00</td>\n",
       "      <td>16°</td>\n",
       "      <td>Muy nublado</td>\n",
       "      <td>24%</td>\n",
       "      <td>ESE 6 km/h</td>\n",
       "    </tr>\n",
       "    <tr>\n",
       "      <th>2</th>\n",
       "      <td>jueves, 7 de abril</td>\n",
       "      <td>12:00</td>\n",
       "      <td>17°</td>\n",
       "      <td>Nublado</td>\n",
       "      <td>24%</td>\n",
       "      <td>ESE 9 km/h</td>\n",
       "    </tr>\n",
       "    <tr>\n",
       "      <th>3</th>\n",
       "      <td>jueves, 7 de abril</td>\n",
       "      <td>13:00</td>\n",
       "      <td>19°</td>\n",
       "      <td>Nublado</td>\n",
       "      <td>18%</td>\n",
       "      <td>SE 13 km/h</td>\n",
       "    </tr>\n",
       "    <tr>\n",
       "      <th>4</th>\n",
       "      <td>jueves, 7 de abril</td>\n",
       "      <td>14:00</td>\n",
       "      <td>18°</td>\n",
       "      <td>Nublado</td>\n",
       "      <td>18%</td>\n",
       "      <td>SE 13 km/h</td>\n",
       "    </tr>\n",
       "    <tr>\n",
       "      <th>...</th>\n",
       "      <td>...</td>\n",
       "      <td>...</td>\n",
       "      <td>...</td>\n",
       "      <td>...</td>\n",
       "      <td>...</td>\n",
       "      <td>...</td>\n",
       "    </tr>\n",
       "    <tr>\n",
       "      <th>90</th>\n",
       "      <td>sábado, 9 de abril</td>\n",
       "      <td>4:00</td>\n",
       "      <td>12°</td>\n",
       "      <td>Muy nublado</td>\n",
       "      <td>18%</td>\n",
       "      <td>NNE 5 km/h</td>\n",
       "    </tr>\n",
       "    <tr>\n",
       "      <th>91</th>\n",
       "      <td>sábado, 9 de abril</td>\n",
       "      <td>5:00</td>\n",
       "      <td>12°</td>\n",
       "      <td>Muy nublado</td>\n",
       "      <td>18%</td>\n",
       "      <td>NE 6 km/h</td>\n",
       "    </tr>\n",
       "    <tr>\n",
       "      <th>92</th>\n",
       "      <td>sábado, 9 de abril</td>\n",
       "      <td>6:00</td>\n",
       "      <td>12°</td>\n",
       "      <td>Muy nublado</td>\n",
       "      <td>18%</td>\n",
       "      <td>NE 6 km/h</td>\n",
       "    </tr>\n",
       "    <tr>\n",
       "      <th>93</th>\n",
       "      <td>sábado, 9 de abril</td>\n",
       "      <td>7:00</td>\n",
       "      <td>13°</td>\n",
       "      <td>Muy nublado</td>\n",
       "      <td>20%</td>\n",
       "      <td>NE 6 km/h</td>\n",
       "    </tr>\n",
       "    <tr>\n",
       "      <th>94</th>\n",
       "      <td>sábado, 9 de abril</td>\n",
       "      <td>8:00</td>\n",
       "      <td>15°</td>\n",
       "      <td>Muy nublado</td>\n",
       "      <td>23%</td>\n",
       "      <td>ENE 8 km/h</td>\n",
       "    </tr>\n",
       "  </tbody>\n",
       "</table>\n",
       "<p>95 rows × 6 columns</p>\n",
       "</div>"
      ],
      "text/plain": [
       "                   dia   hora temperatura             nubosidad precipitacion  \\\n",
       "0   jueves, 7 de abril  10:00         16°  Parcialmente nublado           24%   \n",
       "1   jueves, 7 de abril  11:00         16°           Muy nublado           24%   \n",
       "2   jueves, 7 de abril  12:00         17°               Nublado           24%   \n",
       "3   jueves, 7 de abril  13:00         19°               Nublado           18%   \n",
       "4   jueves, 7 de abril  14:00         18°               Nublado           18%   \n",
       "..                 ...    ...         ...                   ...           ...   \n",
       "90  sábado, 9 de abril   4:00         12°           Muy nublado           18%   \n",
       "91  sábado, 9 de abril   5:00         12°           Muy nublado           18%   \n",
       "92  sábado, 9 de abril   6:00         12°           Muy nublado           18%   \n",
       "93  sábado, 9 de abril   7:00         13°           Muy nublado           20%   \n",
       "94  sábado, 9 de abril   8:00         15°           Muy nublado           23%   \n",
       "\n",
       "        viento  \n",
       "0     E 4 km/h  \n",
       "1   ESE 6 km/h  \n",
       "2   ESE 9 km/h  \n",
       "3   SE 13 km/h  \n",
       "4   SE 13 km/h  \n",
       "..         ...  \n",
       "90  NNE 5 km/h  \n",
       "91   NE 6 km/h  \n",
       "92   NE 6 km/h  \n",
       "93   NE 6 km/h  \n",
       "94  ENE 8 km/h  \n",
       "\n",
       "[95 rows x 6 columns]"
      ]
     },
     "execution_count": 31,
     "metadata": {},
     "output_type": "execute_result"
    }
   ],
   "source": [
    "import pandas as pd \n",
    "\n",
    "df = pd.DataFrame(datos)\n",
    "df.head(-1)"
   ]
  },
  {
   "cell_type": "code",
   "execution_count": null,
   "id": "33de907c",
   "metadata": {},
   "outputs": [],
   "source": []
  }
 ],
 "metadata": {
  "kernelspec": {
   "display_name": "Python 3 (ipykernel)",
   "language": "python",
   "name": "python3"
  },
  "language_info": {
   "codemirror_mode": {
    "name": "ipython",
    "version": 3
   },
   "file_extension": ".py",
   "mimetype": "text/x-python",
   "name": "python",
   "nbconvert_exporter": "python",
   "pygments_lexer": "ipython3",
   "version": "3.9.7"
  }
 },
 "nbformat": 4,
 "nbformat_minor": 5
}

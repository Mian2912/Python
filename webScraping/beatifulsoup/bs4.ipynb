{
 "cells": [
  {
   "cell_type": "code",
   "execution_count": 9,
   "id": "982e3f33",
   "metadata": {},
   "outputs": [],
   "source": [
    "from bs4 import BeautifulSoup\n",
    "contenido_html = open(\"index.html\")\n",
    "soup = BeautifulSoup(contenido_html, \"lxml\")"
   ]
  },
  {
   "cell_type": "code",
   "execution_count": 10,
   "id": "9e0288c2",
   "metadata": {},
   "outputs": [
    {
     "name": "stdout",
     "output_type": "stream",
     "text": [
      "<head>\n",
      "<link href=\"style.css\" rel=\"stylesheet\"/>\n",
      "<title>BeatifulSoup</title>\n",
      "</head>\n"
     ]
    }
   ],
   "source": [
    "print(soup.html.head)"
   ]
  },
  {
   "cell_type": "code",
   "execution_count": 11,
   "id": "4b589662",
   "metadata": {},
   "outputs": [
    {
     "name": "stdout",
     "output_type": "stream",
     "text": [
      "<title>BeatifulSoup</title>\n",
      "Primer link\n",
      "{'href': 'http://example.com/link1', 'class': ['link'], 'id': 'link1'}\n",
      "item1\n"
     ]
    }
   ],
   "source": [
    "print(soup.html.title)\n",
    "print(soup.html.a.text)\n",
    "print(soup.html.a.attrs)\n",
    "print(soup.html.ul.li.text)"
   ]
  },
  {
   "cell_type": "code",
   "execution_count": 12,
   "id": "a4e30905",
   "metadata": {},
   "outputs": [
    {
     "name": "stdout",
     "output_type": "stream",
     "text": [
      "<ul>\n",
      "<li class=\"item\">item1</li>\n",
      "<li class=\"item\">item2</li>\n",
      "<li class=\"item_final\">item3</li>\n",
      "</ul>\n"
     ]
    }
   ],
   "source": [
    "ul = soup.ul\n",
    "print(ul)"
   ]
  },
  {
   "cell_type": "code",
   "execution_count": 13,
   "id": "a48cefbc",
   "metadata": {},
   "outputs": [
    {
     "name": "stdout",
     "output_type": "stream",
     "text": [
      "<li class=\"item\">item1</li>\n"
     ]
    }
   ],
   "source": [
    "li_primer = ul.li\n",
    "print(li_primer)"
   ]
  },
  {
   "cell_type": "code",
   "execution_count": 14,
   "id": "62936d3f",
   "metadata": {},
   "outputs": [
    {
     "name": "stdout",
     "output_type": "stream",
     "text": [
      "<li class=\"item_final\">item3</li>\n"
     ]
    }
   ],
   "source": [
    "#metodofind  y final_all\n",
    "\n",
    "#utilizando el find\n",
    "print(soup.find(\"li\",class_=\"item_final\"))"
   ]
  },
  {
   "cell_type": "code",
   "execution_count": 15,
   "id": "e04f46d0",
   "metadata": {},
   "outputs": [
    {
     "name": "stdout",
     "output_type": "stream",
     "text": [
      "[<li class=\"item_final\">item3</li>]\n"
     ]
    }
   ],
   "source": [
    "print(soup.find_all(\"li\",class_=\"item_final\"))"
   ]
  },
  {
   "cell_type": "code",
   "execution_count": 19,
   "id": "1d4cb31d",
   "metadata": {},
   "outputs": [
    {
     "name": "stdout",
     "output_type": "stream",
     "text": [
      "[<li class=\"item\">item1</li>, <li class=\"item\">item2</li>]\n"
     ]
    }
   ],
   "source": [
    "print(soup.find_all(\"li\", class_=\"item\"))"
   ]
  },
  {
   "cell_type": "code",
   "execution_count": 20,
   "id": "0096bc50",
   "metadata": {},
   "outputs": [
    {
     "name": "stdout",
     "output_type": "stream",
     "text": [
      "[<li class=\"item\">item1</li>, <li class=\"item\">item2</li>]\n"
     ]
    }
   ],
   "source": [
    "print(soup.find_all(\"li\", class_=\"item\",limit=2))"
   ]
  },
  {
   "cell_type": "code",
   "execution_count": 21,
   "id": "9d4fea4f",
   "metadata": {},
   "outputs": [
    {
     "name": "stdout",
     "output_type": "stream",
     "text": [
      "<li class=\"item\">item2</li>\n"
     ]
    }
   ],
   "source": [
    "print(soup.find_all(\"li\", class_=\"item\")[1])"
   ]
  },
  {
   "cell_type": "code",
   "execution_count": 25,
   "id": "5c6b4074",
   "metadata": {},
   "outputs": [
    {
     "name": "stdout",
     "output_type": "stream",
     "text": [
      "http://example.com/link1\n"
     ]
    }
   ],
   "source": [
    "#obtener un atributo de un tag \"Etiqueta html\"\n",
    "#print(soup.find_all(\"a\", class_=\"link\"))\n",
    "#podemos obtener el primero y ademas el contenido de su href\n",
    "print(soup.find_all(\"a\", class_=\"link\")[0][\"href\"])"
   ]
  },
  {
   "cell_type": "code",
   "execution_count": 29,
   "id": "59623912",
   "metadata": {},
   "outputs": [
    {
     "name": "stdout",
     "output_type": "stream",
     "text": [
      "[<a class=\"link\" id=\"link2\">Segundo Link</a>]\n"
     ]
    }
   ],
   "source": [
    "print(soup.find_all(\"a\", attrs={\"class\":\"link\", \"id\":\"link2\"}))"
   ]
  },
  {
   "cell_type": "code",
   "execution_count": 30,
   "id": "f25c5753",
   "metadata": {},
   "outputs": [
    {
     "name": "stdout",
     "output_type": "stream",
     "text": [
      "[<body>\n",
      "<div class=\"header\">\n",
      "<h1 class=\"titulo\"><b>Titulo</b></h1>\n",
      "<p class=\"links\">\n",
      "<a class=\"link\" href=\"http://example.com/link1\" id=\"link1\">Primer link</a>\n",
      "<a class=\"link\" id=\"link2\">Segundo Link</a>\n",
      "<a class=\"link\" id=\"link3\">Tercer Link</a>\n",
      "</p>\n",
      "</div>\n",
      "<div class=\"footer\">\n",
      "<ul>\n",
      "<li class=\"item\">item1</li>\n",
      "<li class=\"item\">item2</li>\n",
      "<li class=\"item_final\">item3</li>\n",
      "</ul>\n",
      "</div>\n",
      "</body>, <b>Titulo</b>]\n"
     ]
    }
   ],
   "source": [
    "import re\n",
    "print(soup.find_all(re.compile(\"^b\")))"
   ]
  },
  {
   "cell_type": "code",
   "execution_count": null,
   "id": "de5e1dfd",
   "metadata": {},
   "outputs": [],
   "source": []
  }
 ],
 "metadata": {
  "kernelspec": {
   "display_name": "Python 3 (ipykernel)",
   "language": "python",
   "name": "python3"
  },
  "language_info": {
   "codemirror_mode": {
    "name": "ipython",
    "version": 3
   },
   "file_extension": ".py",
   "mimetype": "text/x-python",
   "name": "python",
   "nbconvert_exporter": "python",
   "pygments_lexer": "ipython3",
   "version": "3.9.7"
  }
 },
 "nbformat": 4,
 "nbformat_minor": 5
}
